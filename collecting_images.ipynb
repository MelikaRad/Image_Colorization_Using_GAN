{
 "cells": [
  {
   "cell_type": "code",
   "execution_count": 13,
   "id": "8cd9aa0e",
   "metadata": {},
   "outputs": [],
   "source": [
    "# import requests\n",
    "# from bs4 import BeautifulSoup\n",
    "# import os\n",
    "\n",
    "# def download_images(query, num_images=60):\n",
    "#     url = f\"https://www.google.com/search?q={query}&tbm=isch\"\n",
    "#     response = requests.get(url)\n",
    "#     soup = BeautifulSoup(response.text, 'html.parser')\n",
    "#     img_tags = soup.find_all('img')\n",
    "    \n",
    "#     if not os.path.exists('dog_images'):\n",
    "#         os.makedirs('dog_images')\n",
    "    \n",
    "#     count = 0\n",
    "#     for img in img_tags:\n",
    "#         if count >= num_images:\n",
    "#             break\n",
    "#         img_url = img.get('src')\n",
    "#         if img_url and img_url.startswith('http'):\n",
    "#             img_data = requests.get(img_url).content\n",
    "#             with open(f'dog_images/dog_{count}.jpg', 'wb') as handler:\n",
    "#                 handler.write(img_data)\n",
    "#             count +=1 \n",
    "    \n",
    "#     print(f\"Downloaded {count} images\")"
   ]
  },
  {
   "cell_type": "code",
   "execution_count": 14,
   "id": "048d4261",
   "metadata": {},
   "outputs": [],
   "source": [
    "# download_images(\"dog\")"
   ]
  },
  {
   "cell_type": "code",
   "execution_count": null,
   "id": "80e8a244",
   "metadata": {},
   "outputs": [],
   "source": []
  },
  {
   "cell_type": "code",
   "execution_count": 40,
   "id": "5ec54eed",
   "metadata": {},
   "outputs": [],
   "source": [
    "import os\n",
    "import requests\n",
    "from bs4 import BeautifulSoup\n",
    "\n",
    "\n",
    "def scrape_images(search_query, num_images, output_dir):\n",
    "    \"\"\"\n",
    "    Scrapes images from Google Images and saves them to the specified output directory.\n",
    "\n",
    "    Args:\n",
    "        search_query (str): The search query for images.\n",
    "        num_images (int): The number of images to download.\n",
    "        output_dir (str, optional): The directory to save the downloaded images.\n",
    "\n",
    "    Returns:\n",
    "        int: The number of images successfully downloaded.\n",
    "    \"\"\"\n",
    "    # Create the output directory if it doesn't exist\n",
    "    if not os.path.exists(output_dir):\n",
    "        os.makedirs(output_dir)\n",
    "\n",
    "    # Initialize the image count\n",
    "    image_count = 0\n",
    "\n",
    "    # Set the base URL for the Google Images search\n",
    "    base_url = \"https://www.google.com/search\"\n",
    "    params = {\n",
    "        \"q\": search_query,\n",
    "        \"tbm\": \"isch\",\n",
    "        \"ijn\": \"0\",  # Current page number (start from 0)\n",
    "        \"start\": 1   # Image index to start from (1-based)\n",
    "    }\n",
    "\n",
    "    while image_count < num_images:\n",
    "        # Construct the search URL\n",
    "        search_url = f\"{base_url}?{requests.compat.urlencode(params)}\"\n",
    "\n",
    "        # Send the request and get the HTML content\n",
    "        response = requests.get(search_url)\n",
    "        html_content = response.content\n",
    "\n",
    "        # Parse the HTML content using BeautifulSoup\n",
    "        soup = BeautifulSoup(html_content, \"html.parser\")\n",
    "\n",
    "        # Find all the image elements\n",
    "        image_elements = soup.find_all(\"img\")\n",
    "\n",
    "        # Download the images and save them to the directory\n",
    "        for image_element in image_elements:\n",
    "            image_url = image_element.get(\"src\")\n",
    "            if image_url and \"http\" in image_url:\n",
    "                try:\n",
    "                    image_response = requests.get(image_url)\n",
    "                    image_filename = f\"{search_query}_image_{image_count+1}.jpg\"\n",
    "                    image_path = os.path.join(output_dir, image_filename)\n",
    "                    with open(image_path, \"wb\") as image_file:\n",
    "                        image_file.write(image_response.content)\n",
    "#                     print(f\"Downloaded image {image_count+1}/{num_images}\")\n",
    "                    image_count += 1\n",
    "                    image_number+= 1\n",
    "    \n",
    "                    if image_count >= num_images:\n",
    "                        break\n",
    "                except requests.exceptions.RequestException:\n",
    "                    print(f\"Error downloading image: {image_url}\")\n",
    "\n",
    "        # Update the page number and image index for the next iteration\n",
    "        params[\"ijn\"] = str(int(params[\"ijn\"]) + 1)\n",
    "        params[\"start\"] = str(int(params[\"start\"]) + 10)\n",
    "\n",
    "    print(f\"Downloaded {image_count} {search_query} images.\")\n",
    "    return image_count"
   ]
  },
  {
   "cell_type": "code",
   "execution_count": 41,
   "id": "942d0c24",
   "metadata": {},
   "outputs": [
    {
     "name": "stdout",
     "output_type": "stream",
     "text": [
      "Downloaded 100 dogs images.\n"
     ]
    }
   ],
   "source": [
    "output_dir = \"dog_images\"\n",
    "\n",
    "search_query = \"dogs\"\n",
    "num_images = 100\n",
    "\n",
    "downloaded_images = scrape_images(search_query, num_images, output_dir)"
   ]
  },
  {
   "cell_type": "code",
   "execution_count": 42,
   "id": "644b65fc",
   "metadata": {},
   "outputs": [
    {
     "name": "stdout",
     "output_type": "stream",
     "text": [
      "Downloaded 100 cats images.\n"
     ]
    }
   ],
   "source": [
    "output_dir = \"cat_images\"\n",
    "\n",
    "search_query = \"cats\"\n",
    "num_images = 100\n",
    "\n",
    "downloaded_images = scrape_images(search_query, num_images, output_dir)"
   ]
  },
  {
   "cell_type": "code",
   "execution_count": null,
   "id": "4f13d56e",
   "metadata": {},
   "outputs": [],
   "source": [
    "output_dir = \"cat_images\"\n",
    "\n",
    "search_query = \"cats\"\n",
    "num_images = 100\n",
    "\n",
    "downloaded_images = scrape_images(search_query, num_images, output_dir)"
   ]
  }
 ],
 "metadata": {
  "kernelspec": {
   "display_name": "Python 3 (ipykernel)",
   "language": "python",
   "name": "python3"
  },
  "language_info": {
   "codemirror_mode": {
    "name": "ipython",
    "version": 3
   },
   "file_extension": ".py",
   "mimetype": "text/x-python",
   "name": "python",
   "nbconvert_exporter": "python",
   "pygments_lexer": "ipython3",
   "version": "3.10.8"
  }
 },
 "nbformat": 4,
 "nbformat_minor": 5
}
